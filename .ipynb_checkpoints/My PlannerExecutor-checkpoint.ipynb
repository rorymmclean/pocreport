{
 "cells": [
  {
   "cell_type": "code",
   "execution_count": 1,
   "id": "ce5e57fd",
   "metadata": {
    "ExecuteTime": {
     "end_time": "2023-09-01T14:34:40.080700Z",
     "start_time": "2023-09-01T14:34:35.905167Z"
    }
   },
   "outputs": [],
   "source": [
    "### Imports\n",
    "import streamlit as st\n",
    "import os\n",
    "import io\n",
    "import json\n",
    "import pandas as pd\n",
    "from datetime import datetime\n",
    "import chromadb\n",
    "\n",
    "import langchain\n",
    "# from langchain.cache import InMemoryCache\n",
    "# langchain.llm_cache = InMemoryCache()\n",
    "# from langchain.cache import SQLiteCache\n",
    "# langchain.llm_cache = SQLiteCache(database_path=\"langchain.db\")\n",
    "from langchain.agents import initialize_agent, AgentType, load_tools\n",
    "from langchain.embeddings.openai import OpenAIEmbeddings\n",
    "from langchain.chat_models import ChatOpenAI\n",
    "from langchain.tools import BaseTool, Tool, tool\n",
    "from langchain.callbacks.manager import AsyncCallbackManagerForToolRun, CallbackManagerForToolRun\n",
    "from langchain.llms import OpenAI\n",
    "from langchain.experimental.plan_and_execute import PlanAndExecute, load_agent_executor, load_chat_planner\n",
    "from langchain import LLMMathChain\n",
    "from langchain.vectorstores import Chroma\n",
    "from langchain.agents.agent_toolkits import create_python_agent\n",
    "from contextlib import redirect_stdout\n",
    "from typing import Optional, Type\n",
    "from langchain.document_loaders import TextLoader\n",
    "from langchain.embeddings.openai import OpenAIEmbeddings\n",
    "from langchain.text_splitter import RecursiveCharacterTextSplitter\n",
    "from langchain.vectorstores import Chroma\n",
    "from langchain.chains import LLMChain\n",
    "from langchain.prompts import PromptTemplate"
   ]
  },
  {
   "cell_type": "markdown",
   "id": "c4d15e26",
   "metadata": {},
   "source": [
    "## Initialize"
   ]
  },
  {
   "cell_type": "code",
   "execution_count": 18,
   "id": "2df1de5b",
   "metadata": {
    "ExecuteTime": {
     "end_time": "2023-09-01T14:44:45.491355Z",
     "start_time": "2023-09-01T14:44:45.196753Z"
    }
   },
   "outputs": [],
   "source": [
    "### Read runbook and create vector index\n",
    "raw_documents = TextLoader('content/runbook.txt').load()\n",
    "text_splitter = RecursiveCharacterTextSplitter(chunk_size=1000, chunk_overlap=0)\n",
    "documents = text_splitter.split_documents(raw_documents)\n",
    "runbook_vectors = Chroma.from_documents(documents, OpenAIEmbeddings())\n"
   ]
  },
  {
   "cell_type": "code",
   "execution_count": 3,
   "id": "827b565f",
   "metadata": {
    "ExecuteTime": {
     "end_time": "2023-09-01T14:34:41.257982Z",
     "start_time": "2023-09-01T14:34:41.254855Z"
    }
   },
   "outputs": [],
   "source": [
    "# OpenAI Credentials\n",
    "if not os.environ[\"OPENAI_API_KEY\"]:\n",
    "    openai_api_key = st.secrets[\"OPENAI_API_KEY\"]\n",
    "else:\n",
    "    openai_api_key = os.environ[\"OPENAI_API_KEY\"]\n"
   ]
  },
  {
   "cell_type": "markdown",
   "id": "932cdc6f",
   "metadata": {},
   "source": [
    "## Planner"
   ]
  },
  {
   "cell_type": "code",
   "execution_count": 4,
   "id": "de7f63b5",
   "metadata": {
    "ExecuteTime": {
     "end_time": "2023-09-01T14:34:43.282835Z",
     "start_time": "2023-09-01T14:34:43.277616Z"
    }
   },
   "outputs": [],
   "source": [
    "def planner(myquestion):\n",
    "\n",
    "    ### Bring in my controlling documents and the additonal template\n",
    "    relevancy_cutoff = .8\n",
    "    \n",
    "    docs = runbook_vectors.similarity_search_with_relevance_scores(myquestion, k=3)\n",
    "\n",
    "    mytasks = \"\"\n",
    "    for x,v in docs:\n",
    "        if mytasks == \"\":\n",
    "            mytasks = str(x) + \"\\n\\n\"\n",
    "            continue\n",
    "        if v > relevancy_cutoff:\n",
    "            mytasks = mytasks + str(x) + \"\\n\\n\"\n",
    "            \n",
    "    template=\"\"\"\n",
    "    You are a helpful chatbot that collects information from the user based upon the type of report \n",
    "    they need to comnplete. Use the TEXT below to answer the user's PROMPT.\n",
    "    If you can answer their question, then simply provide the answer as a paragraph. \n",
    "    If you need to create a series of steps necessary for answering the question, \n",
    "    return a list of steps with each step labeled in the format \"Step #:\".\n",
    "    If the user's request cannot be addressed by the TEXT, then only respond with \n",
    "    \"Sorry, but I can't help you with that task.\"\n",
    "\n",
    "    TEXT:\n",
    "    {mytasks}\n",
    "\n",
    "    PROMPT:\n",
    "    {myquestion}\n",
    "    \"\"\"\n",
    "        \n",
    "    llm = ChatOpenAI(model=\"gpt-3.5-turbo\", temperature=0.9, verbose=True)\n",
    "\n",
    "    chain = LLMChain(llm=llm, prompt=PromptTemplate.from_template(template))\n",
    "    \n",
    "    response = chain(inputs={\"mytasks\": mytasks,\"myquestion\": myquestion})\n",
    "\n",
    "    return response\n",
    "\n"
   ]
  },
  {
   "cell_type": "code",
   "execution_count": 5,
   "id": "9234992d",
   "metadata": {
    "ExecuteTime": {
     "end_time": "2023-09-01T14:34:44.396463Z",
     "start_time": "2023-09-01T14:34:44.393869Z"
    }
   },
   "outputs": [],
   "source": [
    "# prompt=\"What kind of reports can you support?\"\n",
    "prompt=\"I would like to create a burglary report.\"\n",
    "# prompt=\"How do I create a crime scene report?\"\n",
    "# prompt=\"I would like to create a financial fraud report.\""
   ]
  },
  {
   "cell_type": "code",
   "execution_count": 6,
   "id": "e028f04a",
   "metadata": {
    "ExecuteTime": {
     "end_time": "2023-09-01T14:34:53.092838Z",
     "start_time": "2023-09-01T14:34:45.768487Z"
    },
    "scrolled": false
   },
   "outputs": [
    {
     "name": "stdout",
     "output_type": "stream",
     "text": [
      "PROMPT: I would like to create a burglary report.\n",
      "\n",
      "STEPS:\n",
      "Step 1: Ask the user for the location of the burglary, including the street address, city, and state. If the user cannot provide a street address, ask for a nearby landmark or cross streets.\n",
      "Step 2: Ask the user for the date and time of the burglary, even if it is just an estimate.\n",
      "Step 3: Ask the user to list the property stolen. Have the user provide a description of each item, when it was purchased, and an estimated value for each item.\n",
      "Step 4: Calculate the total value of all stolen items.\n",
      "Step 5: Ask the user for their contact information, including their name, address, and phone number.\n",
      "Step 6: Ask the user to list the contact information for any witnesses, including their name, address, phone number, and relationship to the user.\n"
     ]
    }
   ],
   "source": [
    "response = planner(prompt)\n",
    "# print(response['text'])\n",
    "steps = response['text'].split(\"\\n\")\n",
    "df = pd.DataFrame(steps, columns=['steps'])\n",
    "df.replace('(^\\s+|\\t+|\\s+$)', '', regex=True, inplace=True)\n",
    "\n",
    "pd.set_option('display.max_rows', None)\n",
    "pd.set_option('display.max_columns', None)\n",
    "pd.set_option('display.width', None)\n",
    "pd.set_option('display.max_colwidth', 1000)\n",
    "print(\"PROMPT:\",prompt+\"\\n\")\n",
    "print(\"STEPS:\")\n",
    "for index, row in df.iterrows():\n",
    "    print(df['steps'].values[index])\n"
   ]
  },
  {
   "cell_type": "markdown",
   "id": "7d932bda",
   "metadata": {
    "ExecuteTime": {
     "end_time": "2023-08-30T14:56:44.904793Z",
     "start_time": "2023-08-30T14:56:44.900511Z"
    }
   },
   "source": [
    "## Executor"
   ]
  },
  {
   "cell_type": "code",
   "execution_count": 7,
   "id": "b1ea2f91",
   "metadata": {
    "ExecuteTime": {
     "end_time": "2023-09-01T14:34:53.342692Z",
     "start_time": "2023-09-01T14:34:53.338475Z"
    }
   },
   "outputs": [],
   "source": [
    "def get_input(myprompt) -> str:\n",
    "    print(myprompt)\n",
    "    contents = input()\n",
    "    return contents\n",
    "\n",
    "\n",
    "# x=get_input(\"Enter list of items:\")\n",
    "\n",
    "def evaluator(myquestion, myanswer):\n",
    "\n",
    "    template=\"\"\"\n",
    "    Evaluate the user's RESPONSE below with the QUESTION the user was asked. \n",
    "    If the answer adequately answers the question OR the user indicates they cannot answer the question, then respond that the answer is adequate.\n",
    "    If the RESPONSE DOES NOT adequately answer the QUESTION then respond with what information is missing from the answers.\n",
    "   \n",
    "\n",
    "    QUESTION:\n",
    "    {myquestion}\n",
    "\n",
    "    RESPONSE:\n",
    "    {myanswer}\n",
    "    \"\"\"\n",
    "    model=\"gpt-4\"\n",
    "    llm = ChatOpenAI(model=model, temperature=0.0, verbose=False)\n",
    "    ev_chain = LLMChain(llm=llm, prompt=PromptTemplate.from_template(template))\n",
    "    response = ev_chain(inputs={\"myanswer\": myanswer,\"myquestion\": myquestion})\n",
    "\n",
    "    return response\n",
    "\n"
   ]
  },
  {
   "cell_type": "code",
   "execution_count": 59,
   "id": "0fb251b1",
   "metadata": {
    "ExecuteTime": {
     "end_time": "2023-09-01T15:06:23.326450Z",
     "start_time": "2023-09-01T15:06:23.322010Z"
    }
   },
   "outputs": [],
   "source": [
    "def final_report(mydf):\n",
    "    mychat = \"\"\n",
    "    for index, row in mydf.iterrows():\n",
    "        mychat = mychat+\"Interviewer: \"+row['steps']+\"\\n\"\n",
    "        mychat = mychat+\"Human: \"+row['response']+\"\\n\"\n",
    "    \n",
    "    template=\"\"\"\n",
    "    Using ALL the information under CONVERSATION, write am incident report that \n",
    "    logically organizes the information from the conversation\n",
    "   \n",
    "\n",
    "    CONVERSATION:\n",
    "    {mychat}\n",
    "\n",
    "    \"\"\"\n",
    "    model=\"gpt-4\"\n",
    "    llm = ChatOpenAI(model=model, temperature=0.0, verbose=False)\n",
    "    ev_chain = LLMChain(llm=llm, prompt=PromptTemplate.from_template(template))\n",
    "    response = ev_chain(inputs={\"mychat\": mychat})\n",
    "\n",
    "    return response\n",
    "\n"
   ]
  },
  {
   "cell_type": "markdown",
   "id": "e76ffec4",
   "metadata": {},
   "source": [
    "## Lambda style"
   ]
  },
  {
   "cell_type": "code",
   "execution_count": 53,
   "id": "55f57abb",
   "metadata": {
    "ExecuteTime": {
     "end_time": "2023-09-01T15:02:37.869020Z",
     "start_time": "2023-09-01T15:02:37.862261Z"
    }
   },
   "outputs": [],
   "source": [
    "def new_lambda(myquestion, myanswer, myhistory=\"\", myindex=0):\n",
    "\n",
    "    if len(myhistory)== 0:\n",
    "        myresults = planner(myanswer)\n",
    "        # print(myresults)\n",
    "        steps = myresults['text'].split(\"\\n\")\n",
    "        # print(steps)\n",
    "        mydf = pd.DataFrame(steps, columns=['steps'])\n",
    "        mydf['response']=''\n",
    "        mydf.replace('(^\\s+|\\t+|\\s+$)', '', regex=True, inplace=True)\n",
    "        if len(mydf.index) == 1:\n",
    "            return myresults['text'], 'True', '', 0\n",
    "        elif len(mydf.index) == 0:\n",
    "            return \"I'm sorry but I can't help you. Use this tool to assist in collecting incident reports.\", 'True', '', 0\n",
    "        else:\n",
    "            result = mydf.to_json(orient=\"records\")\n",
    "            return mydf['steps'].values[0], 'False', result, 0\n",
    "    else:\n",
    "        mydf = pd.DataFrame.from_dict(json.loads(history), orient='columns')\n",
    "        mydf['response'][myindex]=mydf['response'][myindex]+\" \"+myanswer\n",
    "        evaluation = evaluator(myquestion, mydf['response'][myindex])\n",
    "        myresults = evaluation['text']\n",
    "        if \"adequate\" in myresults:\n",
    "            myindex = myindex+1\n",
    "            if myindex < len(mydf.index):\n",
    "                result = mydf.to_json(orient=\"records\")\n",
    "                return mydf['steps'].values[myindex], False, result, myindex\n",
    "            else:\n",
    "                report = final_report(mydf)\n",
    "                return report['text'], True, \"\", 0\n",
    "        else:\n",
    "            result = mydf.to_json(orient=\"records\")\n",
    "            return myresults, False, result, myindex\n",
    "        "
   ]
  },
  {
   "cell_type": "code",
   "execution_count": 11,
   "id": "d003d9cb",
   "metadata": {
    "ExecuteTime": {
     "end_time": "2023-09-01T14:42:38.482965Z",
     "start_time": "2023-09-01T14:42:35.081044Z"
    }
   },
   "outputs": [
    {
     "name": "stdout",
     "output_type": "stream",
     "text": [
      "The system is currently configured to collect information on burglaries and crime scenes. However, the system can be expanded to include any type of report as long as instructions are provided in the runbook.\n",
      "\n",
      "Final: True Question #: 0\n",
      "\n"
     ]
    }
   ],
   "source": [
    "myquestion = \"how can I help you?\"\n",
    "myanswer = \"What kind of reports can you support?\"\n",
    "\n",
    "answer, final, history, qnbr = new_lambda(myquestion, myanswer)\n",
    "print(answer)\n",
    "\n",
    "print(\"\\nFinal:\",final,\"Question #:\",qnbr)\n",
    "print(history)"
   ]
  },
  {
   "cell_type": "code",
   "execution_count": 44,
   "id": "d0b2f1c7",
   "metadata": {
    "ExecuteTime": {
     "end_time": "2023-09-01T14:57:22.386931Z",
     "start_time": "2023-09-01T14:57:15.695257Z"
    }
   },
   "outputs": [
    {
     "name": "stdout",
     "output_type": "stream",
     "text": [
      "Step 1: Ask the user for the location of the burglary. The user should provide the street address, city, and state. If the user cannot provide a street address, ask the user for a nearby landmark or cross streets.\n",
      "\n",
      "Final: False Question #: 0\n",
      "[\n",
      "  {\n",
      "    \"steps\": \"Step 1: Ask the user for the location of the burglary. The user should provide the street address, city, and state. If the user cannot provide a street address, ask the user for a nearby landmark or cross streets.\",\n",
      "    \"response\": \"\"\n",
      "  },\n",
      "  {\n",
      "    \"steps\": \"Step 2: Ask the user for the date and time of the burglary, even if the time is just an estimate.\",\n",
      "    \"response\": \"\"\n",
      "  },\n",
      "  {\n",
      "    \"steps\": \"Step 3: Ask the user to list the property stolen. The user should provide a description of each item, when it was purchased, and an estimated value for each item.\",\n",
      "    \"response\": \"\"\n",
      "  },\n",
      "  {\n",
      "    \"steps\": \"Step 4: Ask the user for their contact information, including name, address, and phone number.\",\n",
      "    \"response\": \"\"\n",
      "  },\n",
      "  {\n",
      "    \"steps\": \"Step 5: Ask the user to list the contact information for any witnesses, including name, address, phone numbers, and relationship to the user.\",\n",
      "    \"response\": \"\"\n",
      "  }\n",
      "]\n"
     ]
    }
   ],
   "source": [
    "myquestion = \"how can I help you?\"\n",
    "myanswer = \"Help me complete a burglary report\"\n",
    "\n",
    "answer, final, history, qnbr = new_lambda(myquestion, myanswer)\n",
    "print(answer)\n",
    "\n",
    "print(\"\\nFinal:\",final,\"Question #:\",qnbr)\n",
    "print(json.dumps(json.loads(history),indent=2))"
   ]
  },
  {
   "cell_type": "code",
   "execution_count": 45,
   "id": "ec6e14bb",
   "metadata": {
    "ExecuteTime": {
     "end_time": "2023-09-01T14:57:25.048292Z",
     "start_time": "2023-09-01T14:57:22.409701Z"
    }
   },
   "outputs": [
    {
     "name": "stdout",
     "output_type": "stream",
     "text": [
      "The city and state are missing from the user's response.\n",
      "\n",
      "Final: False Question #: 0\n",
      "[\n",
      "  {\n",
      "    \"steps\": \"Step 1: Ask the user for the location of the burglary. The user should provide the street address, city, and state. If the user cannot provide a street address, ask the user for a nearby landmark or cross streets.\",\n",
      "    \"response\": \" 123 Main St.\"\n",
      "  },\n",
      "  {\n",
      "    \"steps\": \"Step 2: Ask the user for the date and time of the burglary, even if the time is just an estimate.\",\n",
      "    \"response\": \"\"\n",
      "  },\n",
      "  {\n",
      "    \"steps\": \"Step 3: Ask the user to list the property stolen. The user should provide a description of each item, when it was purchased, and an estimated value for each item.\",\n",
      "    \"response\": \"\"\n",
      "  },\n",
      "  {\n",
      "    \"steps\": \"Step 4: Ask the user for their contact information, including name, address, and phone number.\",\n",
      "    \"response\": \"\"\n",
      "  },\n",
      "  {\n",
      "    \"steps\": \"Step 5: Ask the user to list the contact information for any witnesses, including name, address, phone numbers, and relationship to the user.\",\n",
      "    \"response\": \"\"\n",
      "  }\n",
      "]\n"
     ]
    }
   ],
   "source": [
    "myquestion = answer\n",
    "myanswer = \"123 Main St.\"\n",
    "myhistory = history\n",
    "myqnbr = qnbr\n",
    "\n",
    "answer, final, history, qnbr = new_lambda(myquestion, myanswer, myhistory, myqnbr)\n",
    "print(answer)\n",
    "\n",
    "print(\"\\nFinal:\",final,\"Question #:\",qnbr)\n",
    "print(json.dumps(json.loads(history),indent=2))"
   ]
  },
  {
   "cell_type": "code",
   "execution_count": 46,
   "id": "099377d1",
   "metadata": {
    "ExecuteTime": {
     "end_time": "2023-09-01T14:57:26.276800Z",
     "start_time": "2023-09-01T14:57:25.068664Z"
    }
   },
   "outputs": [
    {
     "name": "stdout",
     "output_type": "stream",
     "text": [
      "Step 2: Ask the user for the date and time of the burglary, even if the time is just an estimate.\n",
      "\n",
      "Final: False Question #: 1\n",
      "[\n",
      "  {\n",
      "    \"steps\": \"Step 1: Ask the user for the location of the burglary. The user should provide the street address, city, and state. If the user cannot provide a street address, ask the user for a nearby landmark or cross streets.\",\n",
      "    \"response\": \" 123 Main St. Buffalo, NY\"\n",
      "  },\n",
      "  {\n",
      "    \"steps\": \"Step 2: Ask the user for the date and time of the burglary, even if the time is just an estimate.\",\n",
      "    \"response\": \"\"\n",
      "  },\n",
      "  {\n",
      "    \"steps\": \"Step 3: Ask the user to list the property stolen. The user should provide a description of each item, when it was purchased, and an estimated value for each item.\",\n",
      "    \"response\": \"\"\n",
      "  },\n",
      "  {\n",
      "    \"steps\": \"Step 4: Ask the user for their contact information, including name, address, and phone number.\",\n",
      "    \"response\": \"\"\n",
      "  },\n",
      "  {\n",
      "    \"steps\": \"Step 5: Ask the user to list the contact information for any witnesses, including name, address, phone numbers, and relationship to the user.\",\n",
      "    \"response\": \"\"\n",
      "  }\n",
      "]\n"
     ]
    }
   ],
   "source": [
    "myquestion = answer\n",
    "myanswer = \"Buffalo, NY\"\n",
    "myhistory = history\n",
    "myqnbr = qnbr\n",
    "\n",
    "answer, final, history, qnbr = new_lambda(myquestion, myanswer, myhistory, myqnbr)\n",
    "print(answer)\n",
    "\n",
    "print(\"\\nFinal:\",final,\"Question #:\",qnbr)\n",
    "print(json.dumps(json.loads(history),indent=2))"
   ]
  },
  {
   "cell_type": "code",
   "execution_count": 47,
   "id": "bd469f75",
   "metadata": {
    "ExecuteTime": {
     "end_time": "2023-09-01T14:57:28.324995Z",
     "start_time": "2023-09-01T14:57:26.298574Z"
    }
   },
   "outputs": [
    {
     "name": "stdout",
     "output_type": "stream",
     "text": [
      "The time of the burglary is missing from the answer.\n",
      "\n",
      "Final: False Question #: 1\n",
      "[\n",
      "  {\n",
      "    \"steps\": \"Step 1: Ask the user for the location of the burglary. The user should provide the street address, city, and state. If the user cannot provide a street address, ask the user for a nearby landmark or cross streets.\",\n",
      "    \"response\": \" 123 Main St. Buffalo, NY\"\n",
      "  },\n",
      "  {\n",
      "    \"steps\": \"Step 2: Ask the user for the date and time of the burglary, even if the time is just an estimate.\",\n",
      "    \"response\": \" 01/01/2023\"\n",
      "  },\n",
      "  {\n",
      "    \"steps\": \"Step 3: Ask the user to list the property stolen. The user should provide a description of each item, when it was purchased, and an estimated value for each item.\",\n",
      "    \"response\": \"\"\n",
      "  },\n",
      "  {\n",
      "    \"steps\": \"Step 4: Ask the user for their contact information, including name, address, and phone number.\",\n",
      "    \"response\": \"\"\n",
      "  },\n",
      "  {\n",
      "    \"steps\": \"Step 5: Ask the user to list the contact information for any witnesses, including name, address, phone numbers, and relationship to the user.\",\n",
      "    \"response\": \"\"\n",
      "  }\n",
      "]\n"
     ]
    }
   ],
   "source": [
    "myquestion = answer\n",
    "myanswer = \"01/01/2023\"\n",
    "myhistory = history\n",
    "myqnbr = qnbr\n",
    "\n",
    "answer, final, history, qnbr = new_lambda(myquestion, myanswer, myhistory, myqnbr)\n",
    "print(answer)\n",
    "\n",
    "print(\"\\nFinal:\",final,\"Question #:\",qnbr)\n",
    "print(json.dumps(json.loads(history),indent=2))"
   ]
  },
  {
   "cell_type": "code",
   "execution_count": 48,
   "id": "76e6530f",
   "metadata": {
    "ExecuteTime": {
     "end_time": "2023-09-01T14:57:29.861161Z",
     "start_time": "2023-09-01T14:57:28.345648Z"
    }
   },
   "outputs": [
    {
     "name": "stdout",
     "output_type": "stream",
     "text": [
      "Step 3: Ask the user to list the property stolen. The user should provide a description of each item, when it was purchased, and an estimated value for each item.\n",
      "\n",
      "Final: False Question #: 2\n",
      "[\n",
      "  {\n",
      "    \"steps\": \"Step 1: Ask the user for the location of the burglary. The user should provide the street address, city, and state. If the user cannot provide a street address, ask the user for a nearby landmark or cross streets.\",\n",
      "    \"response\": \" 123 Main St. Buffalo, NY\"\n",
      "  },\n",
      "  {\n",
      "    \"steps\": \"Step 2: Ask the user for the date and time of the burglary, even if the time is just an estimate.\",\n",
      "    \"response\": \" 01/01/2023 I don't know the time of the burglary\"\n",
      "  },\n",
      "  {\n",
      "    \"steps\": \"Step 3: Ask the user to list the property stolen. The user should provide a description of each item, when it was purchased, and an estimated value for each item.\",\n",
      "    \"response\": \"\"\n",
      "  },\n",
      "  {\n",
      "    \"steps\": \"Step 4: Ask the user for their contact information, including name, address, and phone number.\",\n",
      "    \"response\": \"\"\n",
      "  },\n",
      "  {\n",
      "    \"steps\": \"Step 5: Ask the user to list the contact information for any witnesses, including name, address, phone numbers, and relationship to the user.\",\n",
      "    \"response\": \"\"\n",
      "  }\n",
      "]\n"
     ]
    }
   ],
   "source": [
    "myquestion = answer\n",
    "myanswer = \"I don't know the time of the burglary\"\n",
    "myhistory = history\n",
    "myqnbr = qnbr\n",
    "\n",
    "answer, final, history, qnbr = new_lambda(myquestion, myanswer, myhistory, myqnbr)\n",
    "print(answer)\n",
    "\n",
    "print(\"\\nFinal:\",final,\"Question #:\",qnbr)\n",
    "print(json.dumps(json.loads(history),indent=2))"
   ]
  },
  {
   "cell_type": "code",
   "execution_count": 49,
   "id": "99cd0bf6",
   "metadata": {
    "ExecuteTime": {
     "end_time": "2023-09-01T14:57:30.987502Z",
     "start_time": "2023-09-01T14:57:29.881315Z"
    }
   },
   "outputs": [
    {
     "name": "stdout",
     "output_type": "stream",
     "text": [
      "Step 4: Ask the user for their contact information, including name, address, and phone number.\n",
      "False\n",
      "[{\"steps\":\"Step 1: Ask the user for the location of the burglary. The user should provide the street address, city, and state. If the user cannot provide a street address, ask the user for a nearby landmark or cross streets.\",\"response\":\" 123 Main St. Buffalo, NY\"},{\"steps\":\"Step 2: Ask the user for the date and time of the burglary, even if the time is just an estimate.\",\"response\":\" 01\\/01\\/2023 I don't know the time of the burglary\"},{\"steps\":\"Step 3: Ask the user to list the property stolen. The user should provide a description of each item, when it was purchased, and an estimated value for each item.\",\"response\":\" 1 gold watch with a value of $400. I don't know when it was purchased. It was a gift on Christmas, 2005.\"},{\"steps\":\"Step 4: Ask the user for their contact information, including name, address, and phone number.\",\"response\":\"\"},{\"steps\":\"Step 5: Ask the user to list the contact information for any witnesses, including name, address, phone numbers, and relationship to the user.\",\"response\":\"\"}]\n",
      "3\n"
     ]
    }
   ],
   "source": [
    "myquestion = answer\n",
    "myanswer = \"1 gold watch with a value of $400. I don't know when it was purchased. It was a gift on Christmas, 2005.\"\n",
    "myhistory = history\n",
    "myqnbr = qnbr\n",
    "\n",
    "answer, final, history, qnbr = new_lambda(myquestion, myanswer, myhistory, myqnbr)\n",
    "print(answer)\n",
    "print(final)\n",
    "print(history)\n",
    "print(qnbr)"
   ]
  },
  {
   "cell_type": "code",
   "execution_count": 50,
   "id": "a2a4931b",
   "metadata": {
    "ExecuteTime": {
     "end_time": "2023-09-01T14:57:39.588941Z",
     "start_time": "2023-09-01T14:57:36.625556Z"
    }
   },
   "outputs": [
    {
     "name": "stdout",
     "output_type": "stream",
     "text": [
      "Step 5: Ask the user to list the contact information for any witnesses, including name, address, phone numbers, and relationship to the user.\n",
      "False\n",
      "[{\"steps\":\"Step 1: Ask the user for the location of the burglary. The user should provide the street address, city, and state. If the user cannot provide a street address, ask the user for a nearby landmark or cross streets.\",\"response\":\" 123 Main St. Buffalo, NY\"},{\"steps\":\"Step 2: Ask the user for the date and time of the burglary, even if the time is just an estimate.\",\"response\":\" 01\\/01\\/2023 I don't know the time of the burglary\"},{\"steps\":\"Step 3: Ask the user to list the property stolen. The user should provide a description of each item, when it was purchased, and an estimated value for each item.\",\"response\":\" 1 gold watch with a value of $400. I don't know when it was purchased. It was a gift on Christmas, 2005.\"},{\"steps\":\"Step 4: Ask the user for their contact information, including name, address, and phone number.\",\"response\":\" Rory McLean, 3046 Terra Maria Way, Ellicott City, MD. (443) 280-0781\"},{\"steps\":\"Step 5: Ask the user to list the contact information for any witnesses, including name, address, phone numbers, and relationship to the user.\",\"response\":\"\"}]\n",
      "4\n"
     ]
    }
   ],
   "source": [
    "myquestion = answer\n",
    "myanswer = \"Rory McLean, 3046 Terra Maria Way, Ellicott City, MD. (443) 280-0781\"\n",
    "myhistory = history\n",
    "myqnbr = qnbr\n",
    "\n",
    "answer, final, history, qnbr = new_lambda(myquestion, myanswer, myhistory, myqnbr)\n",
    "print(answer)\n",
    "print(final)\n",
    "print(history)\n",
    "print(qnbr)"
   ]
  },
  {
   "cell_type": "code",
   "execution_count": 61,
   "id": "b8be8263",
   "metadata": {
    "ExecuteTime": {
     "end_time": "2023-09-01T15:07:37.922788Z",
     "start_time": "2023-09-01T15:07:16.500920Z"
    }
   },
   "outputs": [
    {
     "name": "stdout",
     "output_type": "stream",
     "text": [
      "INCIDENT REPORT:\n",
      "\n",
      "Date of Report: Current Date\n",
      "\n",
      "Incident Type: Burglary\n",
      "\n",
      "Location of Incident: 123 Main St. Buffalo, NY\n",
      "\n",
      "Date and Time of Incident: 01/01/2023, Time Unknown\n",
      "\n",
      "Details of Incident: The victim reported a burglary at the above-mentioned address. The exact time of the incident is unknown. The stolen property is a gold watch, valued at approximately $400. The watch was received as a gift in Christmas, 2005, and the exact purchase date is unknown.\n",
      "\n",
      "Victim Information: \n",
      "Name: Rory McLean\n",
      "Address: 3046 Terra Maria Way, Ellicott City, MD\n",
      "Phone Number: (443) 280-0781\n",
      "\n",
      "Witness Information: According to the victim, there were no witnesses to the crime.\n",
      "\n",
      "This report is based on the information provided by the victim during the interview. Further investigation is required to identify the perpetrator and recover the stolen property.\n",
      "True\n",
      "\n",
      "0\n"
     ]
    }
   ],
   "source": [
    "myquestion = answer\n",
    "myanswer = \"There were no witnesses to the crime.\"\n",
    "myhistory = history\n",
    "myqnbr = qnbr\n",
    "\n",
    "answer, final, history, qnbr = new_lambda(myquestion, myanswer, myhistory, myqnbr)\n",
    "print(answer)\n",
    "print(final)\n",
    "print(history)\n",
    "print(qnbr)"
   ]
  },
  {
   "cell_type": "code",
   "execution_count": null,
   "id": "7df0d525",
   "metadata": {},
   "outputs": [],
   "source": []
  },
  {
   "cell_type": "code",
   "execution_count": null,
   "id": "f1b150cd",
   "metadata": {},
   "outputs": [],
   "source": []
  },
  {
   "cell_type": "code",
   "execution_count": 43,
   "id": "43e93c9d",
   "metadata": {
    "ExecuteTime": {
     "end_time": "2023-09-01T14:57:01.914223Z",
     "start_time": "2023-09-01T14:56:59.763731Z"
    }
   },
   "outputs": [
    {
     "name": "stdout",
     "output_type": "stream",
     "text": [
      "A burglary is defined as the crime of entering a structure, such as a house or commercial building, with the intent to commit a felony, such as theft.\n",
      "\n",
      "Final: True Question #: 0\n",
      "\n"
     ]
    }
   ],
   "source": [
    "myquestion = \"how can I help you?\"\n",
    "myanswer = \"What is your definition of burglary?\"\n",
    "\n",
    "answer, final, history, qnbr = new_lambda(myquestion, myanswer)\n",
    "print(answer)\n",
    "\n",
    "print(\"\\nFinal:\",final,\"Question #:\",qnbr)\n",
    "print(history)"
   ]
  },
  {
   "cell_type": "code",
   "execution_count": null,
   "id": "3e8cd0ec",
   "metadata": {},
   "outputs": [],
   "source": []
  },
  {
   "cell_type": "code",
   "execution_count": null,
   "id": "dfb936f3",
   "metadata": {},
   "outputs": [],
   "source": []
  }
 ],
 "metadata": {
  "kernelspec": {
   "display_name": "Python 3 (ipykernel)",
   "language": "python",
   "name": "python3"
  },
  "language_info": {
   "codemirror_mode": {
    "name": "ipython",
    "version": 3
   },
   "file_extension": ".py",
   "mimetype": "text/x-python",
   "name": "python",
   "nbconvert_exporter": "python",
   "pygments_lexer": "ipython3",
   "version": "3.11.3"
  },
  "latex_envs": {
   "LaTeX_envs_menu_present": true,
   "autoclose": false,
   "autocomplete": true,
   "bibliofile": "biblio.bib",
   "cite_by": "apalike",
   "current_citInitial": 1,
   "eqLabelWithNumbers": true,
   "eqNumInitial": 1,
   "hotkeys": {
    "equation": "Ctrl-E",
    "itemize": "Ctrl-I"
   },
   "labels_anchors": false,
   "latex_user_defs": false,
   "report_style_numbering": false,
   "user_envs_cfg": false
  },
  "toc": {
   "base_numbering": 1,
   "nav_menu": {},
   "number_sections": true,
   "sideBar": true,
   "skip_h1_title": false,
   "title_cell": "Table of Contents",
   "title_sidebar": "Contents",
   "toc_cell": false,
   "toc_position": {},
   "toc_section_display": true,
   "toc_window_display": false
  },
  "varInspector": {
   "cols": {
    "lenName": 16,
    "lenType": 16,
    "lenVar": 40
   },
   "kernels_config": {
    "python": {
     "delete_cmd_postfix": "",
     "delete_cmd_prefix": "del ",
     "library": "var_list.py",
     "varRefreshCmd": "print(var_dic_list())"
    },
    "r": {
     "delete_cmd_postfix": ") ",
     "delete_cmd_prefix": "rm(",
     "library": "var_list.r",
     "varRefreshCmd": "cat(var_dic_list()) "
    }
   },
   "types_to_exclude": [
    "module",
    "function",
    "builtin_function_or_method",
    "instance",
    "_Feature"
   ],
   "window_display": false
  }
 },
 "nbformat": 4,
 "nbformat_minor": 5
}
