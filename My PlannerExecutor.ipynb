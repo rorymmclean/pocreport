{
 "cells": [
  {
   "cell_type": "code",
   "execution_count": 27,
   "id": "ce5e57fd",
   "metadata": {
    "ExecuteTime": {
     "end_time": "2023-08-30T02:59:07.766558Z",
     "start_time": "2023-08-30T02:59:07.761309Z"
    }
   },
   "outputs": [],
   "source": [
    "### Imports\n",
    "import streamlit as st\n",
    "import os\n",
    "import io\n",
    "import json\n",
    "import pandas as pd\n",
    "from datetime import datetime\n",
    "import chromadb\n",
    "\n",
    "import langchain\n",
    "# from langchain.cache import InMemoryCache\n",
    "# langchain.llm_cache = InMemoryCache()\n",
    "# from langchain.cache import SQLiteCache\n",
    "# langchain.llm_cache = SQLiteCache(database_path=\"langchain.db\")\n",
    "from langchain.agents import initialize_agent, AgentType, load_tools\n",
    "from langchain.embeddings.openai import OpenAIEmbeddings\n",
    "from langchain.chat_models import ChatOpenAI\n",
    "from langchain.tools import BaseTool, Tool, tool\n",
    "from langchain.callbacks.manager import AsyncCallbackManagerForToolRun, CallbackManagerForToolRun\n",
    "from langchain.llms import OpenAI\n",
    "from langchain.experimental.plan_and_execute import PlanAndExecute, load_agent_executor, load_chat_planner\n",
    "from langchain import LLMMathChain\n",
    "from langchain.vectorstores import Chroma\n",
    "from langchain.agents.agent_toolkits import create_python_agent\n",
    "from contextlib import redirect_stdout\n",
    "from typing import Optional, Type\n",
    "from langchain.document_loaders import TextLoader\n",
    "from langchain.embeddings.openai import OpenAIEmbeddings\n",
    "from langchain.text_splitter import RecursiveCharacterTextSplitter\n",
    "from langchain.vectorstores import Chroma\n",
    "from langchain.chains import LLMChain\n",
    "from langchain.prompts import PromptTemplate"
   ]
  },
  {
   "cell_type": "markdown",
   "id": "c4d15e26",
   "metadata": {},
   "source": [
    "## Initialize"
   ]
  },
  {
   "cell_type": "code",
   "execution_count": 82,
   "id": "2df1de5b",
   "metadata": {
    "ExecuteTime": {
     "end_time": "2023-08-30T04:05:42.165388Z",
     "start_time": "2023-08-30T04:05:41.840475Z"
    }
   },
   "outputs": [],
   "source": [
    "### Read runbook and create vector index\n",
    "raw_documents = TextLoader('content/runbook.txt').load()\n",
    "text_splitter = RecursiveCharacterTextSplitter(chunk_size=1000, chunk_overlap=0)\n",
    "documents = text_splitter.split_documents(raw_documents)\n",
    "runbook_vectors = Chroma.from_documents(documents, OpenAIEmbeddings())\n"
   ]
  },
  {
   "cell_type": "code",
   "execution_count": 21,
   "id": "827b565f",
   "metadata": {
    "ExecuteTime": {
     "end_time": "2023-08-30T02:57:13.131705Z",
     "start_time": "2023-08-30T02:57:13.128431Z"
    }
   },
   "outputs": [],
   "source": [
    "# OpenAI Credentials\n",
    "if not os.environ[\"OPENAI_API_KEY\"]:\n",
    "    openai_api_key = st.secrets[\"OPENAI_API_KEY\"]\n",
    "else:\n",
    "    openai_api_key = os.environ[\"OPENAI_API_KEY\"]\n"
   ]
  },
  {
   "cell_type": "markdown",
   "id": "932cdc6f",
   "metadata": {},
   "source": [
    "## Planner"
   ]
  },
  {
   "cell_type": "code",
   "execution_count": 94,
   "id": "de7f63b5",
   "metadata": {
    "ExecuteTime": {
     "end_time": "2023-08-30T04:09:35.046951Z",
     "start_time": "2023-08-30T04:09:35.041855Z"
    }
   },
   "outputs": [],
   "source": [
    "def planner(myquestion):\n",
    "\n",
    "    ### Bring in my controlling documents and the additonal template\n",
    "    relevancy_cutoff = .8\n",
    "    \n",
    "    docs = runbook_vectors.similarity_search_with_relevance_scores(myquestion, k=3)\n",
    "\n",
    "    mytasks = \"\"\n",
    "    for x,v in docs:\n",
    "        if mytasks == \"\":\n",
    "            mytasks = str(x) + \"\\n\\n\"\n",
    "            continue\n",
    "        if v > relevancy_cutoff:\n",
    "            mytasks = mytasks + str(x) + \"\\n\\n\"\n",
    "            \n",
    "    template=\"\"\"\n",
    "    You are a helpful chatbot that collects information from the user based upon the type of report they need to comnplete.\n",
    "    Using the TEXT below, either answer the user's question or create a series of steps necessary to collect all the information necessary for the report type referenced in the  \"PROMPT\" below. \n",
    "    return the list of steps as a JSON object. Number the steps in the format \"Step #:\".\n",
    "    If the user's request does not reference a report you understand, then DO NOT create any steps and respond with \"Sorry, but I can't help you with that task.\"\n",
    "\n",
    "    TEXT:\n",
    "    {mytasks}\n",
    "\n",
    "    PROMPT:\n",
    "    {myquestion}\n",
    "    \"\"\"\n",
    "        \n",
    "    llm = ChatOpenAI(model=\"gpt-3.5-turbo\", temperature=0.0, verbose=True)\n",
    "\n",
    "    chain = LLMChain(llm=llm, prompt=PromptTemplate.from_template(template))\n",
    "    \n",
    "    response = chain(inputs={\"mytasks\": mytasks,\"myquestion\": myquestion})\n",
    "\n",
    "    return response\n",
    "\n"
   ]
  },
  {
   "cell_type": "code",
   "execution_count": 166,
   "id": "9234992d",
   "metadata": {
    "ExecuteTime": {
     "end_time": "2023-08-30T16:14:16.496547Z",
     "start_time": "2023-08-30T16:14:16.493833Z"
    }
   },
   "outputs": [],
   "source": [
    "# prompt=\"What kind of reports can you support?\"\n",
    "prompt=\"I would like to create a burglary report.\"\n",
    "# prompt=\"How do I create a crime scene report?\"\n",
    "# prompt=\"I would like to create a financial fraud report.\""
   ]
  },
  {
   "cell_type": "code",
   "execution_count": 167,
   "id": "e028f04a",
   "metadata": {
    "ExecuteTime": {
     "end_time": "2023-08-30T16:14:24.843111Z",
     "start_time": "2023-08-30T16:14:17.685248Z"
    },
    "scrolled": false
   },
   "outputs": [
    {
     "name": "stdout",
     "output_type": "stream",
     "text": [
      "PROMPT: I would like to create a burglary report.\n",
      "\n",
      "STEPS:\n",
      "Step 1: Ask the user for the location of the burglary. The user should provide the street address, city, and state. If the user cannot provide a street address, ask the user for a nearby landmark or cross streets.\n",
      "Step 2: Ask the user for the date and time of the burglary, even if the time is just an estimate.\n",
      "Step 3: Ask the user to list the property stolen. The user should provide a description of each item, when it was purchased, and an estimated value for each item.\n",
      "Step 4: Calculate the total value of all items.\n",
      "Step 5: Ask the user for their contact information, including name, address, and phone number.\n",
      "Step 6: Ask the user to list the contact information for any witnesses, including name, address, phone numbers, and relationship to the user.\n"
     ]
    }
   ],
   "source": [
    "response = planner(prompt)\n",
    "# print(response['text'])\n",
    "steps = response['text'].split(\"\\n\")\n",
    "df = pd.DataFrame(steps, columns=['steps'])\n",
    "df.replace('(^\\s+|\\t+|\\s+$)', '', regex=True, inplace=True)\n",
    "\n",
    "pd.set_option('display.max_rows', None)\n",
    "pd.set_option('display.max_columns', None)\n",
    "pd.set_option('display.width', None)\n",
    "pd.set_option('display.max_colwidth', 1000)\n",
    "print(\"PROMPT:\",prompt+\"\\n\")\n",
    "print(\"STEPS:\")\n",
    "for index, row in df.iterrows():\n",
    "    print(df['steps'].values[index])\n"
   ]
  },
  {
   "cell_type": "markdown",
   "id": "7d932bda",
   "metadata": {
    "ExecuteTime": {
     "end_time": "2023-08-30T14:56:44.904793Z",
     "start_time": "2023-08-30T14:56:44.900511Z"
    }
   },
   "source": [
    "## Executor"
   ]
  },
  {
   "cell_type": "code",
   "execution_count": 218,
   "id": "b1ea2f91",
   "metadata": {
    "ExecuteTime": {
     "end_time": "2023-08-30T17:06:01.293270Z",
     "start_time": "2023-08-30T17:06:01.289102Z"
    }
   },
   "outputs": [],
   "source": [
    "def get_input(myprompt) -> str:\n",
    "    print(myprompt)\n",
    "    contents = input()\n",
    "    return contents\n",
    "\n",
    "\n",
    "# x=get_input(\"Enter list of items:\")\n",
    "\n",
    "def evaluator(myquestion, myanswer):\n",
    "\n",
    "    template=\"\"\"\n",
    "    Evaluate the user's RESPONSE below with the QUESTION the user was asked. \n",
    "    If the RESPONSE DOES NOT adequately answer the QUESTION then respond with what information is missing from the answers.\n",
    "   \n",
    "\n",
    "    QUESTION:\n",
    "    {myquestion}\n",
    "\n",
    "    RESPONSE:\n",
    "    {myanswer}\n",
    "    \"\"\"\n",
    "    model=\"gpt-4\"\n",
    "#     model=\"gpt-3.5-turbo\"\n",
    "    llm = ChatOpenAI(model=model, temperature=0.0, verbose=False)\n",
    "    ev_chain = LLMChain(llm=llm, prompt=PromptTemplate.from_template(template))\n",
    "    response = ev_chain(inputs={\"myanswer\": myanswer,\"myquestion\": myquestion})\n",
    "\n",
    "    return response\n",
    "\n"
   ]
  },
  {
   "cell_type": "code",
   "execution_count": 221,
   "id": "0fb251b1",
   "metadata": {
    "ExecuteTime": {
     "end_time": "2023-08-30T17:17:33.238481Z",
     "start_time": "2023-08-30T17:15:12.012551Z"
    }
   },
   "outputs": [
    {
     "name": "stdout",
     "output_type": "stream",
     "text": [
      "Step 1: Ask the user for the location of the burglary. The user should provide the street address, city, and state. If the user cannot provide a street address, ask the user for a nearby landmark or cross streets.\n",
      "123 Main St.\n",
      "The user did not provide the city and state of the burglary location.\n",
      "Buffalo, NY\n",
      "\n",
      "Step 2: Ask the user for the date and time of the burglary, even if the time is just an estimate.\n",
      "1/1/2023\n",
      "The time of the burglary is missing from the response.\n",
      "12pm\n",
      "\n",
      "Step 3: Ask the user to list the property stolen. The user should provide a description of each item, when it was purchased, and an estimated value for each item.\n",
      "1 watch\n",
      "The user did not provide a description of the watch, when it was purchased, and an estimated value for the watch.\n",
      "The watch is gold. I don't know when it was purchased and I estimate the value at $400\n",
      "\n",
      "Step 4: Calculate the total value of all items.\n",
      "TBD\n",
      "The response is missing the calculation or the total value of all items.\n",
      "400\n",
      "\n",
      "Step 5: Ask the user for their contact information, including name, address, and phone number.\n",
      "I am John Smith and I live at 1313 Mockingbird Lane, Amherst, NY\n",
      "The user's phone number is missing from the response.\n",
      "716-234-5678\n",
      "\n",
      "Step 6: Ask the user to list the contact information for any witnesses, including name, address, phone numbers, and relationship to the user.\n",
      "There were no witnesses\n",
      "The user's response adequately answers the question.\n",
      "\n",
      "None\n"
     ]
    },
    {
     "data": {
      "text/html": [
       "<div>\n",
       "<style scoped>\n",
       "    .dataframe tbody tr th:only-of-type {\n",
       "        vertical-align: middle;\n",
       "    }\n",
       "\n",
       "    .dataframe tbody tr th {\n",
       "        vertical-align: top;\n",
       "    }\n",
       "\n",
       "    .dataframe thead th {\n",
       "        text-align: right;\n",
       "    }\n",
       "</style>\n",
       "<table border=\"1\" class=\"dataframe\">\n",
       "  <thead>\n",
       "    <tr style=\"text-align: right;\">\n",
       "      <th></th>\n",
       "      <th>steps</th>\n",
       "      <th>response</th>\n",
       "    </tr>\n",
       "  </thead>\n",
       "  <tbody>\n",
       "    <tr>\n",
       "      <th>0</th>\n",
       "      <td>Step 1: Ask the user for the location of the burglary. The user should provide the street address, city, and state. If the user cannot provide a street address, ask the user for a nearby landmark or cross streets.</td>\n",
       "      <td>123 Main St.\\nBuffalo, NY</td>\n",
       "    </tr>\n",
       "    <tr>\n",
       "      <th>1</th>\n",
       "      <td>Step 2: Ask the user for the date and time of the burglary, even if the time is just an estimate.</td>\n",
       "      <td>1/1/2023\\n12pm</td>\n",
       "    </tr>\n",
       "    <tr>\n",
       "      <th>2</th>\n",
       "      <td>Step 3: Ask the user to list the property stolen. The user should provide a description of each item, when it was purchased, and an estimated value for each item.</td>\n",
       "      <td>1 watch\\nThe watch is gold. I don't know when it was purchased and I estimate the value at $400</td>\n",
       "    </tr>\n",
       "    <tr>\n",
       "      <th>3</th>\n",
       "      <td>Step 4: Calculate the total value of all items.</td>\n",
       "      <td>TBD\\n400</td>\n",
       "    </tr>\n",
       "    <tr>\n",
       "      <th>4</th>\n",
       "      <td>Step 5: Ask the user for their contact information, including name, address, and phone number.</td>\n",
       "      <td>I am John Smith and I live at 1313 Mockingbird Lane, Amherst, NY\\n716-234-5678</td>\n",
       "    </tr>\n",
       "    <tr>\n",
       "      <th>5</th>\n",
       "      <td>Step 6: Ask the user to list the contact information for any witnesses, including name, address, phone numbers, and relationship to the user.</td>\n",
       "      <td>There were no witnesses</td>\n",
       "    </tr>\n",
       "  </tbody>\n",
       "</table>\n",
       "</div>"
      ],
      "text/plain": [
       "                                                                                                                                                                                                                   steps  \\\n",
       "0  Step 1: Ask the user for the location of the burglary. The user should provide the street address, city, and state. If the user cannot provide a street address, ask the user for a nearby landmark or cross streets.   \n",
       "1                                                                                                                      Step 2: Ask the user for the date and time of the burglary, even if the time is just an estimate.   \n",
       "2                                                     Step 3: Ask the user to list the property stolen. The user should provide a description of each item, when it was purchased, and an estimated value for each item.   \n",
       "3                                                                                                                                                                        Step 4: Calculate the total value of all items.   \n",
       "4                                                                                                                         Step 5: Ask the user for their contact information, including name, address, and phone number.   \n",
       "5                                                                          Step 6: Ask the user to list the contact information for any witnesses, including name, address, phone numbers, and relationship to the user.   \n",
       "\n",
       "                                                                                          response  \n",
       "0                                                                        123 Main St.\\nBuffalo, NY  \n",
       "1                                                                                   1/1/2023\\n12pm  \n",
       "2  1 watch\\nThe watch is gold. I don't know when it was purchased and I estimate the value at $400  \n",
       "3                                                                                         TBD\\n400  \n",
       "4                   I am John Smith and I live at 1313 Mockingbird Lane, Amherst, NY\\n716-234-5678  \n",
       "5                                                                          There were no witnesses  "
      ]
     },
     "execution_count": 221,
     "metadata": {},
     "output_type": "execute_result"
    }
   ],
   "source": [
    "def executor(mydf):\n",
    "\n",
    "    if mydf.size == 1:\n",
    "        return mydf['steps'].values[0]\n",
    "    if mydf.size == 0:\n",
    "        return \"I'm sorry but I can't help you. Use this tool to assist in collecting incident reports.\"\n",
    "    for index, row in df.iterrows():\n",
    "        userinput = get_input(df['steps'].values[index])\n",
    "        if len(userinput)==0:\n",
    "            break\n",
    "        myinput = evaluator(df['steps'].values[index], userinput)\n",
    "        df['response'][index] = userinput\n",
    "        if \"adequate\" in myinput['text']:\n",
    "            print(myinput['text'])\n",
    "        else:\n",
    "            userinput = get_input(myinput['text'])\n",
    "            df['response'][index] = df['response'][index] + \"\\n\" + userinput\n",
    "        print()\n",
    "    \n",
    "df2 = pd.DataFrame()    \n",
    "print(executor(df)) \n",
    "\n",
    "df.head(10)"
   ]
  },
  {
   "cell_type": "code",
   "execution_count": null,
   "id": "36e923c5",
   "metadata": {
    "ExecuteTime": {
     "end_time": "2023-08-30T16:35:41.909169Z",
     "start_time": "2023-08-30T16:35:41.909158Z"
    }
   },
   "outputs": [],
   "source": [
    "def run_inquiry(myquestion):\n",
    "\n",
    "    ### Bring in my controlling documents and the additonal template\n",
    "    relevancy_cutoff = .8\n",
    "    \n",
    "    docs = runbook_vectors.similarity_search_with_relevance_scores(myquestion, k=3)\n",
    "\n",
    "    mytasks = \"\"\n",
    "    for x,v in docs:\n",
    "        if mytasks == \"\":\n",
    "            mytasks = str(x) + \"\\n\\n\"\n",
    "            continue\n",
    "        if v > relevancy_cutoff:\n",
    "            mytasks = mytasks + str(x) + \"\\n\\n\"\n",
    "\n",
    "    template=f\"\"\"\n",
    "    You are a helpful chatbot that collects information from the user based upon the type of report they need to comnplete.\n",
    "    Collect information from the user based upon the report type referenced in the  \"PROMPT\" below. \n",
    "    Use the \"TEXT\" below to help develop to steps necessary to collect the correct information.\n",
    "    If the users does not reference a report you understand, then return the answer: \"Sorry, but I can't help you with that task.\"\n",
    "\n",
    "    TEXT:\n",
    "    {mytasks}\n",
    "\n",
    "    PROMPT:\n",
    "    {myquestion}\n",
    "    \"\"\"\n",
    "    \n",
    "    llm = ChatOpenAI(model=\"gpt-4\", temperature=0.0, verbose=False)\n",
    "    tools = load_tools(\n",
    "        [\"human\", \"llm-math\"],\n",
    "        llm=llm,\n",
    "#         input_func=get_input,\n",
    "    )\n",
    "\n",
    "    agent_chain = initialize_agent(\n",
    "        tools,\n",
    "        llm,\n",
    "        agent=AgentType.ZERO_SHOT_REACT_DESCRIPTION,\n",
    "        verbose=True,\n",
    "    )\n",
    "    \n",
    "    response = agent_chain.run(template)\n",
    "\n",
    "    return response['output']"
   ]
  },
  {
   "cell_type": "code",
   "execution_count": null,
   "id": "33209391",
   "metadata": {},
   "outputs": [],
   "source": []
  },
  {
   "cell_type": "markdown",
   "id": "bce8604f",
   "metadata": {},
   "source": []
  }
 ],
 "metadata": {
  "kernelspec": {
   "display_name": "Python 3 (ipykernel)",
   "language": "python",
   "name": "python3"
  },
  "language_info": {
   "codemirror_mode": {
    "name": "ipython",
    "version": 3
   },
   "file_extension": ".py",
   "mimetype": "text/x-python",
   "name": "python",
   "nbconvert_exporter": "python",
   "pygments_lexer": "ipython3",
   "version": "3.11.3"
  },
  "latex_envs": {
   "LaTeX_envs_menu_present": true,
   "autoclose": false,
   "autocomplete": true,
   "bibliofile": "biblio.bib",
   "cite_by": "apalike",
   "current_citInitial": 1,
   "eqLabelWithNumbers": true,
   "eqNumInitial": 1,
   "hotkeys": {
    "equation": "Ctrl-E",
    "itemize": "Ctrl-I"
   },
   "labels_anchors": false,
   "latex_user_defs": false,
   "report_style_numbering": false,
   "user_envs_cfg": false
  },
  "toc": {
   "base_numbering": 1,
   "nav_menu": {},
   "number_sections": true,
   "sideBar": true,
   "skip_h1_title": false,
   "title_cell": "Table of Contents",
   "title_sidebar": "Contents",
   "toc_cell": false,
   "toc_position": {},
   "toc_section_display": true,
   "toc_window_display": false
  },
  "varInspector": {
   "cols": {
    "lenName": 16,
    "lenType": 16,
    "lenVar": 40
   },
   "kernels_config": {
    "python": {
     "delete_cmd_postfix": "",
     "delete_cmd_prefix": "del ",
     "library": "var_list.py",
     "varRefreshCmd": "print(var_dic_list())"
    },
    "r": {
     "delete_cmd_postfix": ") ",
     "delete_cmd_prefix": "rm(",
     "library": "var_list.r",
     "varRefreshCmd": "cat(var_dic_list()) "
    }
   },
   "types_to_exclude": [
    "module",
    "function",
    "builtin_function_or_method",
    "instance",
    "_Feature"
   ],
   "window_display": false
  }
 },
 "nbformat": 4,
 "nbformat_minor": 5
}
